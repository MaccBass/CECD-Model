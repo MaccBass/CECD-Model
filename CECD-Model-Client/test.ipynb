{
 "cells": [
  {
   "cell_type": "code",
   "execution_count": 1,
   "id": "86156f30-ba2f-4e7c-a892-32cecdbe7a92",
   "metadata": {},
   "outputs": [],
   "source": [
    "import joblib\n",
    "import pickle\n",
    "import pandas as pd\n",
    "import numpy as np"
   ]
  },
  {
   "cell_type": "code",
   "execution_count": 2,
   "id": "c59e852a-a96b-4919-8bb1-808222baafb5",
   "metadata": {},
   "outputs": [
    {
     "name": "stdout",
     "output_type": "stream",
     "text": [
      "1.2.2\n"
     ]
    }
   ],
   "source": [
    "import sklearn\n",
    "print(sklearn.__version__)"
   ]
  },
  {
   "cell_type": "code",
   "execution_count": 3,
   "id": "ccc0aba4-9209-4a1b-96e0-c60835f2a2ea",
   "metadata": {},
   "outputs": [],
   "source": [
    "with open(\"random_forest.joblib\", \"rb\") as fr:\n",
    "    model = joblib.load(fr);"
   ]
  },
  {
   "cell_type": "code",
   "execution_count": 4,
   "id": "e5529e6a-5ef5-4fb7-9305-3578865d2ca0",
   "metadata": {},
   "outputs": [],
   "source": [
    "with open(\"le_gu.pkl\", \"rb\") as fr:\n",
    "    le_gu = pickle.load(fr);\n",
    "with open(\"le_dong.pkl\", \"rb\") as fr:\n",
    "    le_dong = pickle.load(fr);"
   ]
  },
  {
   "cell_type": "markdown",
   "id": "97c1d0de-9697-47c9-b490-19c09eed5b56",
   "metadata": {},
   "source": [
    "# 학습 데이터\n",
    "- dealDate: string->dateTime->int\n",
    "- interestRate: float\n",
    "- gu: string->int\n",
    "- dong: string->int\n",
    "- exclusiveArea: float\n",
    "- floor: int\n",
    "- buildYear: int\n",
    "\n",
    "# 출력\n",
    "- dealAmount: float (만원 단위)"
   ]
  },
  {
   "cell_type": "code",
   "execution_count": 10,
   "id": "a4f624b2-e493-46a3-a186-b630793d3064",
   "metadata": {},
   "outputs": [],
   "source": [
    "from datetime import datetime, timedelta\n",
    "def make_x_df(gu, dong, exclusiveArea, floor, buildYear):\n",
    "    current_date = datetime.now()\n",
    "    deal_dates = []\n",
    "    for i in range(12):\n",
    "        month = current_date.month - i\n",
    "        year = current_date.year\n",
    "        if month <= 0:\n",
    "            month += 12\n",
    "            year -= 1\n",
    "        deal_dates.append(f\"{year}-{month:02d}-15\")\n",
    "    interest_rates = make_ir(deal_dates)\n",
    "    \n",
    "    x_df = pd.DataFrame({\n",
    "        \"dealDate\": deal_dates,\n",
    "        \"interestRate\": interest_rates,\n",
    "        \"gu\": [gu] * 12,\n",
    "        \"dong\": [dong] * 12,\n",
    "        \"exclusiveArea\": [exclusiveArea] * 12,\n",
    "        \"floor\": [floor] * 12,\n",
    "        \"buildYear\": [buildYear] * 12\n",
    "    })\n",
    "    return x_df\n",
    "    \n",
    "# 날짜 기준으로 금리값 넣어주는 함수\n",
    "# 최근 10.11에 변동 외에는 없음. 금리 변동시마다 그때그때 갱신 필요\n",
    "def make_ir(deal_dates):\n",
    "    ir_values = []\n",
    "    reference_date = datetime(2024, 10, 11)\n",
    "    \n",
    "    for date_str in deal_dates:\n",
    "        date = datetime.strptime(date_str, \"%Y-%m-%d\")\n",
    "        if date >= reference_date:\n",
    "            ir_values.append(3.25)\n",
    "        else:\n",
    "            ir_values.append(3.5)\n",
    "    \n",
    "    return ir_values"
   ]
  },
  {
   "cell_type": "code",
   "execution_count": 11,
   "id": "55c96836-c8d7-4c34-9fb8-683befdd73b6",
   "metadata": {},
   "outputs": [],
   "source": [
    "# test\n",
    "gu = \"강남구\"\n",
    "dong = \"역삼동\"\n",
    "exclusiveArea = 59.73\n",
    "floor = 8\n",
    "buildYear = 2005\n",
    "\n",
    "testdf = make_x_df(gu, dong, exclusiveArea, floor, buildYear)"
   ]
  },
  {
   "cell_type": "code",
   "execution_count": 12,
   "id": "cf04fba4-76b5-4c20-af11-cb935d270729",
   "metadata": {},
   "outputs": [
    {
     "data": {
      "text/html": [
       "<div>\n",
       "<style scoped>\n",
       "    .dataframe tbody tr th:only-of-type {\n",
       "        vertical-align: middle;\n",
       "    }\n",
       "\n",
       "    .dataframe tbody tr th {\n",
       "        vertical-align: top;\n",
       "    }\n",
       "\n",
       "    .dataframe thead th {\n",
       "        text-align: right;\n",
       "    }\n",
       "</style>\n",
       "<table border=\"1\" class=\"dataframe\">\n",
       "  <thead>\n",
       "    <tr style=\"text-align: right;\">\n",
       "      <th></th>\n",
       "      <th>dealDate</th>\n",
       "      <th>interestRate</th>\n",
       "      <th>gu</th>\n",
       "      <th>dong</th>\n",
       "      <th>exclusiveArea</th>\n",
       "      <th>floor</th>\n",
       "      <th>buildYear</th>\n",
       "    </tr>\n",
       "  </thead>\n",
       "  <tbody>\n",
       "    <tr>\n",
       "      <th>0</th>\n",
       "      <td>2024-11-15</td>\n",
       "      <td>3.25</td>\n",
       "      <td>0</td>\n",
       "      <td>207</td>\n",
       "      <td>59.73</td>\n",
       "      <td>8</td>\n",
       "      <td>2005</td>\n",
       "    </tr>\n",
       "    <tr>\n",
       "      <th>1</th>\n",
       "      <td>2024-10-15</td>\n",
       "      <td>3.25</td>\n",
       "      <td>0</td>\n",
       "      <td>207</td>\n",
       "      <td>59.73</td>\n",
       "      <td>8</td>\n",
       "      <td>2005</td>\n",
       "    </tr>\n",
       "    <tr>\n",
       "      <th>2</th>\n",
       "      <td>2024-09-15</td>\n",
       "      <td>3.50</td>\n",
       "      <td>0</td>\n",
       "      <td>207</td>\n",
       "      <td>59.73</td>\n",
       "      <td>8</td>\n",
       "      <td>2005</td>\n",
       "    </tr>\n",
       "    <tr>\n",
       "      <th>3</th>\n",
       "      <td>2024-08-15</td>\n",
       "      <td>3.50</td>\n",
       "      <td>0</td>\n",
       "      <td>207</td>\n",
       "      <td>59.73</td>\n",
       "      <td>8</td>\n",
       "      <td>2005</td>\n",
       "    </tr>\n",
       "    <tr>\n",
       "      <th>4</th>\n",
       "      <td>2024-07-15</td>\n",
       "      <td>3.50</td>\n",
       "      <td>0</td>\n",
       "      <td>207</td>\n",
       "      <td>59.73</td>\n",
       "      <td>8</td>\n",
       "      <td>2005</td>\n",
       "    </tr>\n",
       "    <tr>\n",
       "      <th>5</th>\n",
       "      <td>2024-06-15</td>\n",
       "      <td>3.50</td>\n",
       "      <td>0</td>\n",
       "      <td>207</td>\n",
       "      <td>59.73</td>\n",
       "      <td>8</td>\n",
       "      <td>2005</td>\n",
       "    </tr>\n",
       "    <tr>\n",
       "      <th>6</th>\n",
       "      <td>2024-05-15</td>\n",
       "      <td>3.50</td>\n",
       "      <td>0</td>\n",
       "      <td>207</td>\n",
       "      <td>59.73</td>\n",
       "      <td>8</td>\n",
       "      <td>2005</td>\n",
       "    </tr>\n",
       "    <tr>\n",
       "      <th>7</th>\n",
       "      <td>2024-04-15</td>\n",
       "      <td>3.50</td>\n",
       "      <td>0</td>\n",
       "      <td>207</td>\n",
       "      <td>59.73</td>\n",
       "      <td>8</td>\n",
       "      <td>2005</td>\n",
       "    </tr>\n",
       "    <tr>\n",
       "      <th>8</th>\n",
       "      <td>2024-03-15</td>\n",
       "      <td>3.50</td>\n",
       "      <td>0</td>\n",
       "      <td>207</td>\n",
       "      <td>59.73</td>\n",
       "      <td>8</td>\n",
       "      <td>2005</td>\n",
       "    </tr>\n",
       "    <tr>\n",
       "      <th>9</th>\n",
       "      <td>2024-02-15</td>\n",
       "      <td>3.50</td>\n",
       "      <td>0</td>\n",
       "      <td>207</td>\n",
       "      <td>59.73</td>\n",
       "      <td>8</td>\n",
       "      <td>2005</td>\n",
       "    </tr>\n",
       "    <tr>\n",
       "      <th>10</th>\n",
       "      <td>2024-01-15</td>\n",
       "      <td>3.50</td>\n",
       "      <td>0</td>\n",
       "      <td>207</td>\n",
       "      <td>59.73</td>\n",
       "      <td>8</td>\n",
       "      <td>2005</td>\n",
       "    </tr>\n",
       "    <tr>\n",
       "      <th>11</th>\n",
       "      <td>2023-12-15</td>\n",
       "      <td>3.50</td>\n",
       "      <td>0</td>\n",
       "      <td>207</td>\n",
       "      <td>59.73</td>\n",
       "      <td>8</td>\n",
       "      <td>2005</td>\n",
       "    </tr>\n",
       "  </tbody>\n",
       "</table>\n",
       "</div>"
      ],
      "text/plain": [
       "      dealDate  interestRate  gu  dong  exclusiveArea  floor  buildYear\n",
       "0   2024-11-15          3.25   0   207          59.73      8       2005\n",
       "1   2024-10-15          3.25   0   207          59.73      8       2005\n",
       "2   2024-09-15          3.50   0   207          59.73      8       2005\n",
       "3   2024-08-15          3.50   0   207          59.73      8       2005\n",
       "4   2024-07-15          3.50   0   207          59.73      8       2005\n",
       "5   2024-06-15          3.50   0   207          59.73      8       2005\n",
       "6   2024-05-15          3.50   0   207          59.73      8       2005\n",
       "7   2024-04-15          3.50   0   207          59.73      8       2005\n",
       "8   2024-03-15          3.50   0   207          59.73      8       2005\n",
       "9   2024-02-15          3.50   0   207          59.73      8       2005\n",
       "10  2024-01-15          3.50   0   207          59.73      8       2005\n",
       "11  2023-12-15          3.50   0   207          59.73      8       2005"
      ]
     },
     "execution_count": 12,
     "metadata": {},
     "output_type": "execute_result"
    }
   ],
   "source": [
    "testdf[\"gu\"] = le_gu.transform(testdf[\"gu\"])\n",
    "testdf[\"dong\"] = le_dong.transform(testdf[\"dong\"])\n",
    "testdf"
   ]
  },
  {
   "cell_type": "code",
   "execution_count": 16,
   "id": "67e152fb-f5b3-4627-92f8-3710e97f5535",
   "metadata": {},
   "outputs": [],
   "source": [
    "start_date = pd.to_datetime('2006-01-01')\n",
    "testdf['dealDate'] = pd.to_datetime(testdf['dealDate'])\n",
    "testdf['dealDate'] = (testdf['dealDate'] - start_date).dt.days\n",
    "testdf"
   ]
  },
  {
   "cell_type": "code",
   "execution_count": 18,
   "id": "45f1a2b3-0913-470a-9bfb-b58bbc3e8aff",
   "metadata": {},
   "outputs": [
    {
     "data": {
      "text/plain": [
       "array([205364., 205364., 205279., 202593., 200785., 193850., 193605.,\n",
       "       190700., 188825., 188580., 187625., 186915.])"
      ]
     },
     "execution_count": 18,
     "metadata": {},
     "output_type": "execute_result"
    }
   ],
   "source": [
    "model.predict(testdf)"
   ]
  },
  {
   "cell_type": "code",
   "execution_count": 61,
   "id": "bdf6cf85-ad0e-43f2-b239-d08de0522c92",
   "metadata": {},
   "outputs": [],
   "source": [
    "dealDate = \"2024-09-18\"\n",
    "interestRate = 3.25\n",
    "gu = \"강남구\"\n",
    "dong = \"역삼동\"\n",
    "exclusiveArea = 59.73\n",
    "floor = 8\n",
    "buildYear = 2005\n",
    "\n",
    "data = {\n",
    "    \"dealDate\": [dealDate],\n",
    "    \"interestRate\": [interestRate],\n",
    "    \"gu\": [gu],\n",
    "    \"dong\": [dong],\n",
    "    \"exclusiveArea\": [exclusiveArea],\n",
    "    \"floor\": [floor],\n",
    "    \"buildYear\": [buildYear]\n",
    "}\n",
    "\n",
    "testdf = pd.DataFrame(data)"
   ]
  },
  {
   "cell_type": "code",
   "execution_count": 62,
   "id": "5c7e0d92-cfd1-47a0-9ea6-e010ca7d8ab3",
   "metadata": {},
   "outputs": [
    {
     "data": {
      "text/plain": [
       "array([205364.])"
      ]
     },
     "execution_count": 62,
     "metadata": {},
     "output_type": "execute_result"
    }
   ],
   "source": [
    "start_date = pd.to_datetime('2006-01-01')\n",
    "testdf['dealDate'] = pd.to_datetime(testdf['dealDate'])\n",
    "testdf['dealDate'] = (testdf['dealDate'] - start_date).dt.days\n",
    "\n",
    "testdf[\"gu\"] = le_gu.transform(testdf[\"gu\"])\n",
    "testdf[\"dong\"] = le_dong.transform(testdf[\"dong\"])\n",
    "testdf\n",
    "\n",
    "model.predict(testdf)"
   ]
  },
  {
   "cell_type": "code",
   "execution_count": null,
   "id": "89a6cbf9-2d5e-4bb6-81f4-ef5dab5e8a39",
   "metadata": {},
   "outputs": [],
   "source": []
  }
 ],
 "metadata": {
  "kernelspec": {
   "display_name": "Python 3 (ipykernel)",
   "language": "python",
   "name": "python3"
  },
  "language_info": {
   "codemirror_mode": {
    "name": "ipython",
    "version": 3
   },
   "file_extension": ".py",
   "mimetype": "text/x-python",
   "name": "python",
   "nbconvert_exporter": "python",
   "pygments_lexer": "ipython3",
   "version": "3.11.7"
  }
 },
 "nbformat": 4,
 "nbformat_minor": 5
}
